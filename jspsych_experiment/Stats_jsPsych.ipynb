version https://git-lfs.github.com/spec/v1
oid sha256:16e403dd8774cd120ce41b1317612a8fd32198fc2227ade5e3dbc304ce926446
size 239503
