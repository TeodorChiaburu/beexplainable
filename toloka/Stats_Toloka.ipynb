version https://git-lfs.github.com/spec/v1
oid sha256:dae8c517f74a4a936087ca1ac61243dbdbadba408aedd46ed3a53683040325c5
size 293159
