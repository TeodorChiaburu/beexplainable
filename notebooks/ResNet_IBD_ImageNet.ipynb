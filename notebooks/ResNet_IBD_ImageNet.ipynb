version https://git-lfs.github.com/spec/v1
oid sha256:f9c3a17ec8a61ffc4ffa8af12e5b29ae4dd3975ed67a2a957b80d210a2bc478a
size 1865777
