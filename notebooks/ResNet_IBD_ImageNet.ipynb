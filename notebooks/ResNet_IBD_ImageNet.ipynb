version https://git-lfs.github.com/spec/v1
oid sha256:7d4bbe0c0aa093517408f72aa5c782746cc862c4b655371ec9070080bb0ea644
size 1878083
