version https://git-lfs.github.com/spec/v1
oid sha256:c617d82e972d2cbe2a085c41a443553fb87b552bfa119d4228498822cab1410d
size 926429
