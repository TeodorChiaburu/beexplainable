version https://git-lfs.github.com/spec/v1
oid sha256:f0411d2156736cc1c1723491753e5e754edc9aff2bd6f37295eb2cc1288e3fd4
size 1174720
