version https://git-lfs.github.com/spec/v1
oid sha256:795cc31db1f036936d08f4b478492b85a847668729dd7957b3bd3b5e9d57defe
size 340209
