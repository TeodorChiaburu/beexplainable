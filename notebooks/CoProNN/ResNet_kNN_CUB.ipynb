version https://git-lfs.github.com/spec/v1
oid sha256:bba1107d15f1e30a6a023a262ce1718f476e3a32483ea9083a32b297ef017780
size 538687
