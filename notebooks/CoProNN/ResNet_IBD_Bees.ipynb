version https://git-lfs.github.com/spec/v1
oid sha256:e972be754ff8cd5f526da4a873fbb1e3a55114888280cb002f877f53a7e7ec1f
size 1836255
