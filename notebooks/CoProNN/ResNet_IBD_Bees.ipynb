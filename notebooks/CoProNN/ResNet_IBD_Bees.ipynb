version https://git-lfs.github.com/spec/v1
oid sha256:897eb10b118d0e6c2a87fd7f1b3c34ce2856f9d58c1c09d77898e208b08211b5
size 1837683
