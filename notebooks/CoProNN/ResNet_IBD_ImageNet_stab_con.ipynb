version https://git-lfs.github.com/spec/v1
oid sha256:9479ddfd718d8ed06efcbd295c5c3565be8ebfd3ae5a3218ca3aea945fce5bb7
size 1392757
