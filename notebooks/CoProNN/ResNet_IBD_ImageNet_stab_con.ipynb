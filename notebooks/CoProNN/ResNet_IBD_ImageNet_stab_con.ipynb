version https://git-lfs.github.com/spec/v1
oid sha256:d2fb352fb0af835c3ccd38c4b53e0fe4209180831a2bd1836be1bfb7fcab4cb2
size 1392757
