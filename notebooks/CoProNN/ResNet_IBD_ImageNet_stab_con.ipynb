version https://git-lfs.github.com/spec/v1
oid sha256:a9c1cd27d3a748fbde8f673668b97987d9649a4184a23534f138a2dbe0755850
size 1333398
