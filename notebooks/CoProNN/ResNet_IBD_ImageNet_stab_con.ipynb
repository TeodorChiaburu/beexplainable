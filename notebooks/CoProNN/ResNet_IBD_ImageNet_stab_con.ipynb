version https://git-lfs.github.com/spec/v1
oid sha256:0dff3fcb8bc959a36f8d55616c47b3b5f53b5e5aba307fdc18e917dc9d378cf6
size 1393495
