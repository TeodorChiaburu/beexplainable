version https://git-lfs.github.com/spec/v1
oid sha256:3aa45e497fe888b6da6a17904404d995aa97fe353b36297d48574d5827999697
size 18388410
