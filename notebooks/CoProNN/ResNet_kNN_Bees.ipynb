version https://git-lfs.github.com/spec/v1
oid sha256:f29da1c036e624f4ae98c0a8568660170da095ff9f6342090dd2a9f17e6d6708
size 1418162
