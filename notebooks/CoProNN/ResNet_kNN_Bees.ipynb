version https://git-lfs.github.com/spec/v1
oid sha256:08bae32b159ba60f1585a3c4e4ec16911b2387fc51ae65a306c9f11f4b0c67b3
size 1460820
