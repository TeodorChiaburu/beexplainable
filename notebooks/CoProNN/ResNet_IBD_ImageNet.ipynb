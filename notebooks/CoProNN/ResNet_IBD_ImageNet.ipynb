version https://git-lfs.github.com/spec/v1
oid sha256:53402cd936d9ecede07e0c57fe1354350d777e3fa4214e5f12fc7d882ac8bd87
size 1871288
