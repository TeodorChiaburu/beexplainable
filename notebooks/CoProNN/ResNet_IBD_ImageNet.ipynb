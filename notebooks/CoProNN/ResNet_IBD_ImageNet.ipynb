version https://git-lfs.github.com/spec/v1
oid sha256:e1bf83aa5160288e6dc1c00f6e17bd6a0fdf47ce178917b602616fcedd90d001
size 1928054
