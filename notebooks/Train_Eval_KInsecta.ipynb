version https://git-lfs.github.com/spec/v1
oid sha256:00d4e380a31553b26582ef906f02e470b863d2348d0bf550d1eafac5eb049ed0
size 4259712
